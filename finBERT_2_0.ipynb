{
  "nbformat": 4,
  "nbformat_minor": 0,
  "metadata": {
    "colab": {
      "name": "finBERT_2.0",
      "provenance": []
    },
    "kernelspec": {
      "name": "python3",
      "display_name": "Python 3"
    },
    "accelerator": "GPU"
  },
  "cells": [
    {
      "cell_type": "code",
      "metadata": {
        "id": "UwBvU6vK6-mD",
        "colab_type": "code",
        "colab": {}
      },
      "source": [
        "!pip install -q -U watermark"
      ],
      "execution_count": 0,
      "outputs": []
    },
    {
      "cell_type": "code",
      "metadata": {
        "id": "6gCxxTdE7CTq",
        "colab_type": "code",
        "outputId": "5c20c6d9-3737-4533-bb97-31edb59e5208",
        "colab": {
          "base_uri": "https://localhost:8080/",
          "height": 423
        }
      },
      "source": [
        "!pip install transformers==2.8.0"
      ],
      "execution_count": 2,
      "outputs": [
        {
          "output_type": "stream",
          "text": [
            "Requirement already satisfied: transformers==2.8.0 in /usr/local/lib/python3.6/dist-packages (2.8.0)\n",
            "Requirement already satisfied: numpy in /usr/local/lib/python3.6/dist-packages (from transformers==2.8.0) (1.18.4)\n",
            "Requirement already satisfied: requests in /usr/local/lib/python3.6/dist-packages (from transformers==2.8.0) (2.23.0)\n",
            "Requirement already satisfied: filelock in /usr/local/lib/python3.6/dist-packages (from transformers==2.8.0) (3.0.12)\n",
            "Requirement already satisfied: sentencepiece in /usr/local/lib/python3.6/dist-packages (from transformers==2.8.0) (0.1.90)\n",
            "Requirement already satisfied: boto3 in /usr/local/lib/python3.6/dist-packages (from transformers==2.8.0) (1.13.10)\n",
            "Requirement already satisfied: tqdm>=4.27 in /usr/local/lib/python3.6/dist-packages (from transformers==2.8.0) (4.41.1)\n",
            "Requirement already satisfied: sacremoses in /usr/local/lib/python3.6/dist-packages (from transformers==2.8.0) (0.0.43)\n",
            "Requirement already satisfied: tokenizers==0.5.2 in /usr/local/lib/python3.6/dist-packages (from transformers==2.8.0) (0.5.2)\n",
            "Requirement already satisfied: dataclasses; python_version < \"3.7\" in /usr/local/lib/python3.6/dist-packages (from transformers==2.8.0) (0.7)\n",
            "Requirement already satisfied: regex!=2019.12.17 in /usr/local/lib/python3.6/dist-packages (from transformers==2.8.0) (2019.12.20)\n",
            "Requirement already satisfied: certifi>=2017.4.17 in /usr/local/lib/python3.6/dist-packages (from requests->transformers==2.8.0) (2020.4.5.1)\n",
            "Requirement already satisfied: chardet<4,>=3.0.2 in /usr/local/lib/python3.6/dist-packages (from requests->transformers==2.8.0) (3.0.4)\n",
            "Requirement already satisfied: idna<3,>=2.5 in /usr/local/lib/python3.6/dist-packages (from requests->transformers==2.8.0) (2.9)\n",
            "Requirement already satisfied: urllib3!=1.25.0,!=1.25.1,<1.26,>=1.21.1 in /usr/local/lib/python3.6/dist-packages (from requests->transformers==2.8.0) (1.24.3)\n",
            "Requirement already satisfied: jmespath<1.0.0,>=0.7.1 in /usr/local/lib/python3.6/dist-packages (from boto3->transformers==2.8.0) (0.10.0)\n",
            "Requirement already satisfied: botocore<1.17.0,>=1.16.10 in /usr/local/lib/python3.6/dist-packages (from boto3->transformers==2.8.0) (1.16.10)\n",
            "Requirement already satisfied: s3transfer<0.4.0,>=0.3.0 in /usr/local/lib/python3.6/dist-packages (from boto3->transformers==2.8.0) (0.3.3)\n",
            "Requirement already satisfied: joblib in /usr/local/lib/python3.6/dist-packages (from sacremoses->transformers==2.8.0) (0.15.0)\n",
            "Requirement already satisfied: six in /usr/local/lib/python3.6/dist-packages (from sacremoses->transformers==2.8.0) (1.12.0)\n",
            "Requirement already satisfied: click in /usr/local/lib/python3.6/dist-packages (from sacremoses->transformers==2.8.0) (7.1.2)\n",
            "Requirement already satisfied: docutils<0.16,>=0.10 in /usr/local/lib/python3.6/dist-packages (from botocore<1.17.0,>=1.16.10->boto3->transformers==2.8.0) (0.15.2)\n",
            "Requirement already satisfied: python-dateutil<3.0.0,>=2.1 in /usr/local/lib/python3.6/dist-packages (from botocore<1.17.0,>=1.16.10->boto3->transformers==2.8.0) (2.8.1)\n"
          ],
          "name": "stdout"
        }
      ]
    },
    {
      "cell_type": "code",
      "metadata": {
        "id": "Jahq46ZF7CQo",
        "colab_type": "code",
        "outputId": "65aaf8c9-ae99-4436-a148-da33c803b6b8",
        "colab": {
          "base_uri": "https://localhost:8080/",
          "height": 101
        }
      },
      "source": [
        "!pip install torch==1.4.0 torchvision==0.4.1"
      ],
      "execution_count": 3,
      "outputs": [
        {
          "output_type": "stream",
          "text": [
            "Requirement already satisfied: torch==1.4.0 in /usr/local/lib/python3.6/dist-packages (1.4.0)\n",
            "Requirement already satisfied: torchvision==0.4.1 in /usr/local/lib/python3.6/dist-packages (0.4.1)\n",
            "Requirement already satisfied: pillow>=4.1.1 in /usr/local/lib/python3.6/dist-packages (from torchvision==0.4.1) (7.0.0)\n",
            "Requirement already satisfied: numpy in /usr/local/lib/python3.6/dist-packages (from torchvision==0.4.1) (1.18.4)\n",
            "Requirement already satisfied: six in /usr/local/lib/python3.6/dist-packages (from torchvision==0.4.1) (1.12.0)\n"
          ],
          "name": "stdout"
        }
      ]
    },
    {
      "cell_type": "code",
      "metadata": {
        "id": "jgkgm5Su7CO2",
        "colab_type": "code",
        "outputId": "ec1140c9-f72f-4dd6-971e-29ad83d14c83",
        "colab": {
          "base_uri": "https://localhost:8080/",
          "height": 70
        }
      },
      "source": [
        "import transformers\n",
        "from transformers import BertModel, BertTokenizer, AdamW, get_linear_schedule_with_warmup\n",
        "from transformers import BertForSequenceClassification, BertConfig\n",
        "import torch\n",
        "import numpy as np\n",
        "import pandas as pd\n",
        "import seaborn as sns\n",
        "from pylab import rcParams\n",
        "import matplotlib.pyplot as plt\n",
        "from matplotlib import rc\n",
        "from sklearn.model_selection import train_test_split\n",
        "from sklearn.metrics import confusion_matrix, classification_report\n",
        "from collections import defaultdict\n",
        "from textwrap import wrap\n",
        "from torch import nn, optim\n",
        "import torch.nn.functional as F\n",
        "from torch.utils.data import Dataset, DataLoader\n",
        "%matplotlib inline\n",
        "%config InlineBackend.figure_format='retina'\n",
        "sns.set(style='whitegrid', palette='muted', font_scale=1.2)\n",
        "HAPPY_COLORS_PALETTE = [\"#01BEFE\", \"#FFDD00\", \"#FF7D00\", \"#FF006D\", \"#ADFF02\", \"#8F00FF\"]\n",
        "sns.set_palette(sns.color_palette(HAPPY_COLORS_PALETTE))\n",
        "\n",
        "RANDOM_SEED = 42\n",
        "np.random.seed(RANDOM_SEED)\n",
        "torch.manual_seed(RANDOM_SEED)\n",
        "device = torch.device(\"cuda:0\" if torch.cuda.is_available() else \"cpu\")"
      ],
      "execution_count": 4,
      "outputs": [
        {
          "output_type": "stream",
          "text": [
            "/usr/local/lib/python3.6/dist-packages/statsmodels/tools/_testing.py:19: FutureWarning: pandas.util.testing is deprecated. Use the functions in the public API at pandas.testing instead.\n",
            "  import pandas.util.testing as tm\n"
          ],
          "name": "stderr"
        }
      ]
    },
    {
      "cell_type": "code",
      "metadata": {
        "id": "ydVOEiIgLAlV",
        "colab_type": "code",
        "colab": {}
      },
      "source": [
        "rcParams['figure.figsize'] = 12, 8"
      ],
      "execution_count": 0,
      "outputs": []
    },
    {
      "cell_type": "code",
      "metadata": {
        "id": "9KhbEqUc7CMW",
        "colab_type": "code",
        "outputId": "39aafdc3-529c-46d9-c015-c5e31befc9e8",
        "colab": {
          "base_uri": "https://localhost:8080/",
          "height": 134
        }
      },
      "source": [
        "%reload_ext watermark\n",
        "%watermark -v -p numpy,pandas,torch,transformers"
      ],
      "execution_count": 6,
      "outputs": [
        {
          "output_type": "stream",
          "text": [
            "CPython 3.6.9\n",
            "IPython 5.5.0\n",
            "\n",
            "numpy 1.18.4\n",
            "pandas 1.0.3\n",
            "torch 1.4.0\n",
            "transformers 2.8.0\n"
          ],
          "name": "stdout"
        }
      ]
    },
    {
      "cell_type": "code",
      "metadata": {
        "id": "WAUWv2v_D338",
        "colab_type": "code",
        "colab": {}
      },
      "source": [
        "tagdatafile = '/content/ALL_DATA.csv'\n",
        "df = pd.read_csv(tagdatafile, engine='python', header=None)\n",
        "df.columns = ['content','tags']"
      ],
      "execution_count": 0,
      "outputs": []
    },
    {
      "cell_type": "code",
      "metadata": {
        "id": "0PpVpYNms6-O",
        "colab_type": "code",
        "colab": {
          "base_uri": "https://localhost:8080/",
          "height": 166
        },
        "outputId": "3625f152-f5b3-436b-f0e6-21ef214cf7c3"
      },
      "source": [
        "df.groupby(['tags']).agg(['count']).reset_index()"
      ],
      "execution_count": 8,
      "outputs": [
        {
          "output_type": "execute_result",
          "data": {
            "text/html": [
              "<div>\n",
              "<style scoped>\n",
              "    .dataframe tbody tr th:only-of-type {\n",
              "        vertical-align: middle;\n",
              "    }\n",
              "\n",
              "    .dataframe tbody tr th {\n",
              "        vertical-align: top;\n",
              "    }\n",
              "\n",
              "    .dataframe thead tr th {\n",
              "        text-align: left;\n",
              "    }\n",
              "</style>\n",
              "<table border=\"1\" class=\"dataframe\">\n",
              "  <thead>\n",
              "    <tr>\n",
              "      <th></th>\n",
              "      <th>tags</th>\n",
              "      <th>content</th>\n",
              "    </tr>\n",
              "    <tr>\n",
              "      <th></th>\n",
              "      <th></th>\n",
              "      <th>count</th>\n",
              "    </tr>\n",
              "  </thead>\n",
              "  <tbody>\n",
              "    <tr>\n",
              "      <th>0</th>\n",
              "      <td>negative</td>\n",
              "      <td>604</td>\n",
              "    </tr>\n",
              "    <tr>\n",
              "      <th>1</th>\n",
              "      <td>neutral</td>\n",
              "      <td>2879</td>\n",
              "    </tr>\n",
              "    <tr>\n",
              "      <th>2</th>\n",
              "      <td>positive</td>\n",
              "      <td>1363</td>\n",
              "    </tr>\n",
              "  </tbody>\n",
              "</table>\n",
              "</div>"
            ],
            "text/plain": [
              "       tags content\n",
              "              count\n",
              "0  negative     604\n",
              "1   neutral    2879\n",
              "2  positive    1363"
            ]
          },
          "metadata": {
            "tags": []
          },
          "execution_count": 8
        }
      ]
    },
    {
      "cell_type": "code",
      "metadata": {
        "id": "bec-RHkYD3zv",
        "colab_type": "code",
        "colab": {}
      },
      "source": [
        "def to_sentiment_id(tags):\n",
        "    if tags == 'negative':\n",
        "        return 0\n",
        "    elif tags == 'neutral':\n",
        "        return 1\n",
        "    else:\n",
        "        return 2\n",
        "    \n",
        "df['sentiment'] = df.tags.apply(to_sentiment_id)"
      ],
      "execution_count": 0,
      "outputs": []
    },
    {
      "cell_type": "code",
      "metadata": {
        "id": "Tiau0h9uD9ED",
        "colab_type": "code",
        "outputId": "657bae2e-5594-4f78-fc64-8304c21a6e68",
        "colab": {
          "base_uri": "https://localhost:8080/",
          "height": 34
        }
      },
      "source": [
        "df = df.sample(frac=1).reset_index(drop=True)\n",
        "len(df)"
      ],
      "execution_count": 10,
      "outputs": [
        {
          "output_type": "execute_result",
          "data": {
            "text/plain": [
              "4846"
            ]
          },
          "metadata": {
            "tags": []
          },
          "execution_count": 10
        }
      ]
    },
    {
      "cell_type": "code",
      "metadata": {
        "id": "4e0p8DByXxGl",
        "colab_type": "code",
        "outputId": "e529cd2f-402f-4bf3-a7c3-1fedfb3e5054",
        "colab": {
          "base_uri": "https://localhost:8080/",
          "height": 195
        }
      },
      "source": [
        "df.groupby(['sentiment']).agg(['count'])"
      ],
      "execution_count": 11,
      "outputs": [
        {
          "output_type": "execute_result",
          "data": {
            "text/html": [
              "<div>\n",
              "<style scoped>\n",
              "    .dataframe tbody tr th:only-of-type {\n",
              "        vertical-align: middle;\n",
              "    }\n",
              "\n",
              "    .dataframe tbody tr th {\n",
              "        vertical-align: top;\n",
              "    }\n",
              "\n",
              "    .dataframe thead tr th {\n",
              "        text-align: left;\n",
              "    }\n",
              "\n",
              "    .dataframe thead tr:last-of-type th {\n",
              "        text-align: right;\n",
              "    }\n",
              "</style>\n",
              "<table border=\"1\" class=\"dataframe\">\n",
              "  <thead>\n",
              "    <tr>\n",
              "      <th></th>\n",
              "      <th>content</th>\n",
              "      <th>tags</th>\n",
              "    </tr>\n",
              "    <tr>\n",
              "      <th></th>\n",
              "      <th>count</th>\n",
              "      <th>count</th>\n",
              "    </tr>\n",
              "    <tr>\n",
              "      <th>sentiment</th>\n",
              "      <th></th>\n",
              "      <th></th>\n",
              "    </tr>\n",
              "  </thead>\n",
              "  <tbody>\n",
              "    <tr>\n",
              "      <th>0</th>\n",
              "      <td>604</td>\n",
              "      <td>604</td>\n",
              "    </tr>\n",
              "    <tr>\n",
              "      <th>1</th>\n",
              "      <td>2879</td>\n",
              "      <td>2879</td>\n",
              "    </tr>\n",
              "    <tr>\n",
              "      <th>2</th>\n",
              "      <td>1363</td>\n",
              "      <td>1363</td>\n",
              "    </tr>\n",
              "  </tbody>\n",
              "</table>\n",
              "</div>"
            ],
            "text/plain": [
              "          content  tags\n",
              "            count count\n",
              "sentiment              \n",
              "0             604   604\n",
              "1            2879  2879\n",
              "2            1363  1363"
            ]
          },
          "metadata": {
            "tags": []
          },
          "execution_count": 11
        }
      ]
    },
    {
      "cell_type": "code",
      "metadata": {
        "id": "qqflCscc7CBU",
        "colab_type": "code",
        "colab": {}
      },
      "source": [
        "class_names = ['negative', 'neutral', 'positive']"
      ],
      "execution_count": 0,
      "outputs": []
    },
    {
      "cell_type": "code",
      "metadata": {
        "id": "lC6cbzMK7B-n",
        "colab_type": "code",
        "outputId": "4400ecda-979a-4c85-fcd0-8655ead48304",
        "colab": {
          "base_uri": "https://localhost:8080/",
          "height": 508
        }
      },
      "source": [
        "ax = sns.countplot(df.sentiment)\n",
        "plt.xlabel('review sentiment')\n",
        "ax.set_xticklabels(class_names);"
      ],
      "execution_count": 13,
      "outputs": [
        {
          "output_type": "display_data",
          "data": {
            "image/png": "[encoded data removed]",
            "text/plain": [
              "<Figure size 864x576 with 1 Axes>"
            ]
          },
          "metadata": {
            "tags": [],
            "image/png": {
              "width": 745,
              "height": 491
            }
          }
        }
      ]
    },
    {
      "cell_type": "code",
      "metadata": {
        "id": "u_gppmlr7B8H",
        "colab_type": "code",
        "colab": {}
      },
      "source": [
        "PRE_TRAINED_MODEL_NAME = 'bert-base-cased'"
      ],
      "execution_count": 0,
      "outputs": []
    },
    {
      "cell_type": "code",
      "metadata": {
        "id": "FM2GYhpb7B5U",
        "colab_type": "code",
        "colab": {}
      },
      "source": [
        "tokenizer = BertTokenizer.from_pretrained(PRE_TRAINED_MODEL_NAME)"
      ],
      "execution_count": 0,
      "outputs": []
    },
    {
      "cell_type": "code",
      "metadata": {
        "id": "ZF-efE_I9wC0",
        "colab_type": "code",
        "colab": {}
      },
      "source": [
        "sample_txt = 'When was I last outside? I am stuck at home for 2 weeks.'"
      ],
      "execution_count": 0,
      "outputs": []
    },
    {
      "cell_type": "code",
      "metadata": {
        "id": "wlAF3JWV9xzW",
        "colab_type": "code",
        "outputId": "02f48d59-3131-4d50-e010-a333cb062b3c",
        "colab": {
          "base_uri": "https://localhost:8080/",
          "height": 67
        }
      },
      "source": [
        "tokens = tokenizer.tokenize(sample_txt)\n",
        "token_ids = tokenizer.convert_tokens_to_ids(tokens)\n",
        "\n",
        "print(f' Sentence: {sample_txt}')\n",
        "print(f'   Tokens: {tokens}')\n",
        "print(f'Token IDs: {token_ids}')"
      ],
      "execution_count": 17,
      "outputs": [
        {
          "output_type": "stream",
          "text": [
            " Sentence: When was I last outside? I am stuck at home for 2 weeks.\n",
            "   Tokens: ['When', 'was', 'I', 'last', 'outside', '?', 'I', 'am', 'stuck', 'at', 'home', 'for', '2', 'weeks', '.']\n",
            "Token IDs: [1332, 1108, 146, 1314, 1796, 136, 146, 1821, 5342, 1120, 1313, 1111, 123, 2277, 119]\n"
          ],
          "name": "stdout"
        }
      ]
    },
    {
      "cell_type": "code",
      "metadata": {
        "id": "bEFRuBdv9oim",
        "colab_type": "code",
        "outputId": "68f4a6e9-b426-4351-a5cd-74ba420d7128",
        "colab": {
          "base_uri": "https://localhost:8080/",
          "height": 34
        }
      },
      "source": [
        "encoding = tokenizer.encode_plus(\n",
        "  sample_txt,\n",
        "  max_length=32,\n",
        "  add_special_tokens=True, # Add '[CLS]' and '[SEP]'\n",
        "  return_token_type_ids=False,\n",
        "  pad_to_max_length=True,\n",
        "  return_attention_mask=True,\n",
        "  return_tensors='pt',  # Return PyTorch tensors\n",
        ")\n",
        "\n",
        "encoding.keys()"
      ],
      "execution_count": 18,
      "outputs": [
        {
          "output_type": "execute_result",
          "data": {
            "text/plain": [
              "dict_keys(['input_ids', 'attention_mask'])"
            ]
          },
          "metadata": {
            "tags": []
          },
          "execution_count": 18
        }
      ]
    },
    {
      "cell_type": "code",
      "metadata": {
        "id": "S25IQMvH70zC",
        "colab_type": "code",
        "colab": {}
      },
      "source": [
        "MAX_LEN = 160"
      ],
      "execution_count": 0,
      "outputs": []
    },
    {
      "cell_type": "code",
      "metadata": {
        "id": "bQ_K1bH670w4",
        "colab_type": "code",
        "colab": {}
      },
      "source": [
        "class GPReviewDataset(Dataset):\n",
        "\n",
        "  def __init__(self, reviews, targets, tokenizer, max_len):\n",
        "    self.reviews = reviews\n",
        "    self.targets = targets\n",
        "    self.tokenizer = tokenizer\n",
        "    self.max_len = max_len\n",
        "  \n",
        "  def __len__(self):\n",
        "    return len(self.reviews)\n",
        "  \n",
        "  def __getitem__(self, item):\n",
        "    review = str(self.reviews[item])\n",
        "    target = self.targets[item]\n",
        "\n",
        "    encoding = self.tokenizer.encode_plus(\n",
        "      review,\n",
        "      add_special_tokens=True,\n",
        "      max_length=self.max_len,\n",
        "      return_token_type_ids=False,\n",
        "      pad_to_max_length=True,\n",
        "      return_attention_mask=True,\n",
        "      return_tensors='pt',\n",
        "    )\n",
        "\n",
        "    return {\n",
        "      'review_text': review,\n",
        "      'input_ids': encoding['input_ids'].flatten(),\n",
        "      'attention_mask': encoding['attention_mask'].flatten(),\n",
        "      'targets': torch.tensor(target, dtype=torch.long)\n",
        "    }"
      ],
      "execution_count": 0,
      "outputs": []
    },
    {
      "cell_type": "code",
      "metadata": {
        "id": "TUYZE5nZ70vS",
        "colab_type": "code",
        "colab": {}
      },
      "source": [
        "df_train0, df_test = train_test_split(df, test_size=0.3, random_state=RANDOM_SEED)\n",
        "df_val, df_test = train_test_split(df_test, test_size=0.5, random_state=RANDOM_SEED)\n",
        "df_train = df"
      ],
      "execution_count": 0,
      "outputs": []
    },
    {
      "cell_type": "code",
      "metadata": {
        "id": "9VeD4DB-70rm",
        "colab_type": "code",
        "outputId": "4aeb2676-e127-457f-c9db-ff6cdb727358",
        "colab": {
          "base_uri": "https://localhost:8080/",
          "height": 34
        }
      },
      "source": [
        "df_train0.shape, df_val.shape, df_test.shape, df_train.shape"
      ],
      "execution_count": 22,
      "outputs": [
        {
          "output_type": "execute_result",
          "data": {
            "text/plain": [
              "((3392, 3), (727, 3), (727, 3), (4846, 3))"
            ]
          },
          "metadata": {
            "tags": []
          },
          "execution_count": 22
        }
      ]
    },
    {
      "cell_type": "code",
      "metadata": {
        "id": "HsyTB_0G70p-",
        "colab_type": "code",
        "colab": {}
      },
      "source": [
        "def create_data_loader(df, tokenizer, max_len, batch_size):\n",
        "  ds = GPReviewDataset(\n",
        "    reviews=df.content.to_numpy(),\n",
        "    targets=df.sentiment.to_numpy(),\n",
        "    tokenizer=tokenizer,\n",
        "    max_len=max_len\n",
        "  )\n",
        "\n",
        "  return DataLoader(\n",
        "    ds,\n",
        "    batch_size=batch_size,\n",
        "    num_workers=4\n",
        "  )"
      ],
      "execution_count": 0,
      "outputs": []
    },
    {
      "cell_type": "code",
      "metadata": {
        "id": "2ctNmBxs70ml",
        "colab_type": "code",
        "colab": {}
      },
      "source": [
        "BATCH_SIZE = 8\n",
        "\n",
        "train_data_loader = create_data_loader(df_train, tokenizer, MAX_LEN, BATCH_SIZE)\n",
        "val_data_loader = create_data_loader(df_val, tokenizer, MAX_LEN, BATCH_SIZE)\n",
        "test_data_loader = create_data_loader(df_test, tokenizer, MAX_LEN, BATCH_SIZE)"
      ],
      "execution_count": 0,
      "outputs": []
    },
    {
      "cell_type": "code",
      "metadata": {
        "id": "8T32d_XS70lC",
        "colab_type": "code",
        "outputId": "ff51c911-5f39-4a3b-cb63-840884c91ce2",
        "colab": {
          "base_uri": "https://localhost:8080/",
          "height": 34
        }
      },
      "source": [
        "data = next(iter(train_data_loader))\n",
        "data.keys()"
      ],
      "execution_count": 26,
      "outputs": [
        {
          "output_type": "execute_result",
          "data": {
            "text/plain": [
              "dict_keys(['review_text', 'input_ids', 'attention_mask', 'targets'])"
            ]
          },
          "metadata": {
            "tags": []
          },
          "execution_count": 26
        }
      ]
    },
    {
      "cell_type": "code",
      "metadata": {
        "id": "lfXhjHeZ70ji",
        "colab_type": "code",
        "outputId": "98e1e9d1-a902-46f5-c4f5-d33a6e228662",
        "colab": {
          "base_uri": "https://localhost:8080/",
          "height": 67
        }
      },
      "source": [
        "print(data['input_ids'].shape)\n",
        "print(data['attention_mask'].shape)\n",
        "print(data['targets'].shape)"
      ],
      "execution_count": 27,
      "outputs": [
        {
          "output_type": "stream",
          "text": [
            "torch.Size([8, 160])\n",
            "torch.Size([8, 160])\n",
            "torch.Size([8])\n"
          ],
          "name": "stdout"
        }
      ]
    },
    {
      "cell_type": "code",
      "metadata": {
        "id": "YIAsi7kv70eg",
        "colab_type": "code",
        "colab": {}
      },
      "source": [
        "bert_model = BertModel.from_pretrained(PRE_TRAINED_MODEL_NAME)"
      ],
      "execution_count": 0,
      "outputs": []
    },
    {
      "cell_type": "code",
      "metadata": {
        "id": "u2T4yfKW70cq",
        "colab_type": "code",
        "colab": {}
      },
      "source": [
        "last_hidden_state, pooled_output = bert_model(\n",
        "  input_ids=encoding['input_ids'], \n",
        "  attention_mask=encoding['attention_mask']\n",
        ")"
      ],
      "execution_count": 0,
      "outputs": []
    },
    {
      "cell_type": "code",
      "metadata": {
        "id": "jHMHVuSQ70X7",
        "colab_type": "code",
        "colab": {}
      },
      "source": [
        "model = BertForSequenceClassification.from_pretrained(\n",
        "    PRE_TRAINED_MODEL_NAME, # Use the 12-layer BERT model, with an uncased vocab.\n",
        "    num_labels = 3, \n",
        "    output_attentions = False, # Whether the model returns attentions weights.\n",
        "    output_hidden_states = False, # Whether the model returns all hidden-states.\n",
        ")\n",
        "\n",
        "model = model.to(device)"
      ],
      "execution_count": 0,
      "outputs": []
    },
    {
      "cell_type": "code",
      "metadata": {
        "id": "OU25np3vf52O",
        "colab_type": "code",
        "colab": {}
      },
      "source": [
        "# Note: AdamW is a class from the huggingface library (as opposed to pytorch) \n",
        "# I believe the 'W' stands for 'Weight Decay fix\"\n",
        "optimizer = AdamW(model.parameters(),\n",
        "                  lr = 2e-5, # args.learning_rate - default is 5e-5, our notebook had 2e-5\n",
        "                  eps = 1e-8 # args.adam_epsilon  - default is 1e-8.\n",
        "                )\n",
        "\n"
      ],
      "execution_count": 0,
      "outputs": []
    },
    {
      "cell_type": "code",
      "metadata": {
        "id": "BKrkYbr970Um",
        "colab_type": "code",
        "colab": {}
      },
      "source": [
        "from transformers import get_linear_schedule_with_warmup\n",
        "\n",
        "# Number of training epochs. The BERT authors recommend between 2 and 4. \n",
        "# We chose to run for 4, but we'll see later that this may be over-fitting the\n",
        "# training data.\n",
        "epochs = 20\n",
        "\n",
        "# Total number of training steps is [number of batches] x [number of epochs]. \n",
        "# (Note that this is not the same as the number of training samples).\n",
        "total_steps = len(train_data_loader) * epochs\n",
        "\n",
        "# Create the learning rate scheduler.\n",
        "scheduler = get_linear_schedule_with_warmup(optimizer, \n",
        "                                            num_warmup_steps = 0, # Default value in run_glue.py\n",
        "                                            num_training_steps = total_steps)\n"
      ],
      "execution_count": 0,
      "outputs": []
    },
    {
      "cell_type": "code",
      "metadata": {
        "id": "C2EzS95XfDqM",
        "colab_type": "code",
        "colab": {}
      },
      "source": [
        "# Function to calculate the accuracy of our predictions vs labels\n",
        "def flat_accuracy(preds, labels):\n",
        "    pred_flat = np.argmax(preds, axis=1).flatten()\n",
        "    labels_flat = labels.flatten()\n",
        "    return np.sum(pred_flat == labels_flat) / len(labels_flat)"
      ],
      "execution_count": 0,
      "outputs": []
    },
    {
      "cell_type": "code",
      "metadata": {
        "id": "B3TAUMJ0fDel",
        "colab_type": "code",
        "colab": {}
      },
      "source": [
        "import time\n",
        "import datetime\n",
        "\n",
        "def format_time(elapsed):\n",
        "    '''\n",
        "    Takes a time in seconds and returns a string hh:mm:ss\n",
        "    '''\n",
        "    # Round to the nearest second.\n",
        "    elapsed_rounded = int(round((elapsed)))\n",
        "    \n",
        "    # Format as hh:mm:ss\n",
        "    return str(datetime.timedelta(seconds=elapsed_rounded))"
      ],
      "execution_count": 0,
      "outputs": []
    },
    {
      "cell_type": "code",
      "metadata": {
        "id": "-vAbi3ipfKbB",
        "colab_type": "code",
        "outputId": "0f7c2b9c-3598-4f15-a72c-46b832c1e7c2",
        "colab": {
          "base_uri": "https://localhost:8080/",
          "height": 1000
        }
      },
      "source": [
        "import random\n",
        "\n",
        "# This training code is based on the `run_glue.py` script here:\n",
        "# https://github.com/huggingface/transformers/blob/5bfcd0485ece086ebcbed2d008813037968a9e58/examples/run_glue.py#L128\n",
        "\n",
        "# Set the seed value all over the place to make this reproducible.\n",
        "seed_val = 42\n",
        "\n",
        "random.seed(seed_val)\n",
        "np.random.seed(seed_val)\n",
        "torch.manual_seed(seed_val)\n",
        "torch.cuda.manual_seed_all(seed_val)\n",
        "\n",
        "# We'll store a number of quantities such as training and validation loss, \n",
        "# validation accuracy, and timings.\n",
        "training_stats = []\n",
        "\n",
        "# Measure the total training time for the whole run.\n",
        "total_t0 = time.time()\n",
        "\n",
        "# For each epoch...\n",
        "for epoch_i in range(0, epochs):\n",
        "    \n",
        "    # ========================================\n",
        "    #               Training\n",
        "    # ========================================\n",
        "    \n",
        "    # Perform one full pass over the training set.\n",
        "\n",
        "    print(\"\")\n",
        "    print('======== Epoch {:} / {:} ========'.format(epoch_i + 1, epochs))\n",
        "    print('Training...')\n",
        "\n",
        "    # Measure how long the training epoch takes.\n",
        "    t0 = time.time()\n",
        "\n",
        "    # Reset the total loss for this epoch.\n",
        "    total_train_loss = 0\n",
        "\n",
        "    # Put the model into training mode. Don't be mislead--the call to \n",
        "    # `train` just changes the *mode*, it doesn't *perform* the training.\n",
        "    # `dropout` and `batchnorm` layers behave differently during training\n",
        "    # vs. test (source: https://stackoverflow.com/questions/51433378/what-does-model-train-do-in-pytorch)\n",
        "    model.train()\n",
        "\n",
        "    # For each batch of training data...\n",
        "    for step, batch in enumerate(train_data_loader):\n",
        "\n",
        "        # Progress update every 40 batches.\n",
        "        if step % 40 == 0 and not step == 0:\n",
        "            # Calculate elapsed time in minutes.\n",
        "            elapsed = format_time(time.time() - t0)\n",
        "            \n",
        "            # Report progress.\n",
        "            print('  Batch {:>5,}  of  {:>5,}.    Elapsed: {:}.'.format(step, len(train_data_loader), elapsed))\n",
        "\n",
        "        # Unpack this training batch from our dataloader. \n",
        "        #\n",
        "        # As we unpack the batch, we'll also copy each tensor to the GPU using the \n",
        "        # `to` method.\n",
        "        #\n",
        "        # `batch` contains three pytorch tensors:\n",
        "        #   [0]: input ids \n",
        "        #   [1]: attention masks\n",
        "        #   [2]: labels \n",
        "        b_input_ids = batch[\"input_ids\"].to(device)\n",
        "        b_input_mask = batch[\"attention_mask\"].to(device)\n",
        "        b_labels = batch[\"targets\"].to(device)\n",
        "\n",
        "        # Always clear any previously calculated gradients before performing a\n",
        "        # backward pass. PyTorch doesn't do this automatically because \n",
        "        # accumulating the gradients is \"convenient while training RNNs\". \n",
        "        # (source: https://stackoverflow.com/questions/48001598/why-do-we-need-to-call-zero-grad-in-pytorch)\n",
        "        model.zero_grad()        \n",
        "\n",
        "        # Perform a forward pass (evaluate the model on this training batch).\n",
        "        # The documentation for this `model` function is here: \n",
        "        # https://huggingface.co/transformers/v2.2.0/model_doc/bert.html#transformers.BertForSequenceClassification\n",
        "        # It returns different numbers of parameters depending on what arguments\n",
        "        # arge given and what flags are set. For our useage here, it returns\n",
        "        # the loss (because we provided labels) and the \"logits\"--the model\n",
        "        # outputs prior to activation.\n",
        "        loss, logits = model(b_input_ids, \n",
        "                             token_type_ids=None, \n",
        "                             attention_mask=b_input_mask, \n",
        "                             labels=b_labels)\n",
        "\n",
        "        # Accumulate the training loss over all of the batches so that we can\n",
        "        # calculate the average loss at the end. `loss` is a Tensor containing a\n",
        "        # single value; the `.item()` function just returns the Python value \n",
        "        # from the tensor.\n",
        "        total_train_loss += loss.item()\n",
        "\n",
        "        # Perform a backward pass to calculate the gradients.\n",
        "        loss.backward()\n",
        "\n",
        "        # Clip the norm of the gradients to 1.0.\n",
        "        # This is to help prevent the \"exploding gradients\" problem.\n",
        "        torch.nn.utils.clip_grad_norm_(model.parameters(), 1.0)\n",
        "\n",
        "        # Update parameters and take a step using the computed gradient.\n",
        "        # The optimizer dictates the \"update rule\"--how the parameters are\n",
        "        # modified based on their gradients, the learning rate, etc.\n",
        "        optimizer.step()\n",
        "\n",
        "        # Update the learning rate.\n",
        "        scheduler.step()\n",
        "\n",
        "    # Calculate the average loss over all of the batches.\n",
        "    avg_train_loss = total_train_loss / len(train_data_loader)            \n",
        "    \n",
        "    # Measure how long this epoch took.\n",
        "    training_time = format_time(time.time() - t0)\n",
        "\n",
        "    print(\"\")\n",
        "    print(\"  Average training loss: {0:.2f}\".format(avg_train_loss))\n",
        "    print(\"  Training epcoh took: {:}\".format(training_time))\n",
        "        \n",
        "    # ========================================\n",
        "    #               Validation\n",
        "    # ========================================\n",
        "    # After the completion of each training epoch, measure our performance on\n",
        "    # our validation set.\n",
        "\n",
        "    print(\"\")\n",
        "    print(\"Running Validation...\")\n",
        "\n",
        "    t0 = time.time()\n",
        "\n",
        "    # Put the model in evaluation mode--the dropout layers behave differently\n",
        "    # during evaluation.\n",
        "    model.eval()\n",
        "\n",
        "    # Tracking variables \n",
        "    total_eval_accuracy = 0\n",
        "    total_eval_loss = 0\n",
        "    nb_eval_steps = 0\n",
        "\n",
        "    # Evaluate data for one epoch\n",
        "    for batch in val_data_loader:\n",
        "        \n",
        "        # Unpack this training batch from our dataloader. \n",
        "        #\n",
        "        # As we unpack the batch, we'll also copy each tensor to the GPU using \n",
        "        # the `to` method.\n",
        "        #\n",
        "        # `batch` contains three pytorch tensors:\n",
        "        #   [0]: input ids \n",
        "        #   [1]: attention masks\n",
        "        #   [2]: labels \n",
        "        b_input_ids = batch[\"input_ids\"].to(device)\n",
        "        b_input_mask = batch[\"attention_mask\"].to(device)\n",
        "        b_labels = batch[\"targets\"].to(device)\n",
        "        \n",
        "        # Tell pytorch not to bother with constructing the compute graph during\n",
        "        # the forward pass, since this is only needed for backprop (training).\n",
        "        with torch.no_grad():        \n",
        "\n",
        "            # Forward pass, calculate logit predictions.\n",
        "            # token_type_ids is the same as the \"segment ids\", which \n",
        "            # differentiates sentence 1 and 2 in 2-sentence tasks.\n",
        "            # The documentation for this `model` function is here: \n",
        "            # https://huggingface.co/transformers/v2.2.0/model_doc/bert.html#transformers.BertForSequenceClassification\n",
        "            # Get the \"logits\" output by the model. The \"logits\" are the output\n",
        "            # values prior to applying an activation function like the softmax.\n",
        "            (loss, logits) = model(b_input_ids, \n",
        "                                   token_type_ids=None, \n",
        "                                   attention_mask=b_input_mask,\n",
        "                                   labels=b_labels)\n",
        "            \n",
        "        # Accumulate the validation loss.\n",
        "        total_eval_loss += loss.item()\n",
        "\n",
        "        # Move logits and labels to CPU\n",
        "        logits = logits.detach().cpu().numpy()\n",
        "        label_ids = b_labels.to('cpu').numpy()\n",
        "\n",
        "        # Calculate the accuracy for this batch of test sentences, and\n",
        "        # accumulate it over all batches.\n",
        "        total_eval_accuracy += flat_accuracy(logits, label_ids)\n",
        "        \n",
        "\n",
        "    # Report the final accuracy for this validation run.\n",
        "    avg_val_accuracy = total_eval_accuracy / len(val_data_loader)\n",
        "    print(\"  Accuracy: {0:.2f}\".format(avg_val_accuracy))\n",
        "\n",
        "    # Calculate the average loss over all of the batches.\n",
        "    avg_val_loss = total_eval_loss / len(val_data_loader)\n",
        "    \n",
        "    # Measure how long the validation run took.\n",
        "    validation_time = format_time(time.time() - t0)\n",
        "    \n",
        "    print(\"  Validation Loss: {0:.2f}\".format(avg_val_loss))\n",
        "    print(\"  Validation took: {:}\".format(validation_time))\n",
        "\n",
        "    # Record all statistics from this epoch.\n",
        "    training_stats.append(\n",
        "        {\n",
        "            'epoch': epoch_i + 1,\n",
        "            'Training Loss': avg_train_loss,\n",
        "            'Valid. Loss': avg_val_loss,\n",
        "            'Valid. Accur.': avg_val_accuracy,\n",
        "            'Training Time': training_time,\n",
        "            'Validation Time': validation_time\n",
        "        }\n",
        "    )\n",
        "\n",
        "print(\"\")\n",
        "print(\"Training complete!\")\n",
        "\n",
        "print(\"Total training took {:} (h:mm:ss)\".format(format_time(time.time()-total_t0)))\n"
      ],
      "execution_count": 35,
      "outputs": [
        {
          "output_type": "stream",
          "text": [
            "\n",
            "======== Epoch 1 / 20 ========\n",
            "Training...\n",
            "  Batch    40  of    606.    Elapsed: 0:00:10.\n",
            "  Batch    80  of    606.    Elapsed: 0:00:19.\n",
            "  Batch   120  of    606.    Elapsed: 0:00:29.\n",
            "  Batch   160  of    606.    Elapsed: 0:00:38.\n",
            "  Batch   200  of    606.    Elapsed: 0:00:48.\n",
            "  Batch   240  of    606.    Elapsed: 0:00:58.\n",
            "  Batch   280  of    606.    Elapsed: 0:01:08.\n",
            "  Batch   320  of    606.    Elapsed: 0:01:18.\n",
            "  Batch   360  of    606.    Elapsed: 0:01:27.\n",
            "  Batch   400  of    606.    Elapsed: 0:01:37.\n",
            "  Batch   440  of    606.    Elapsed: 0:01:47.\n",
            "  Batch   480  of    606.    Elapsed: 0:01:57.\n",
            "  Batch   520  of    606.    Elapsed: 0:02:07.\n",
            "  Batch   560  of    606.    Elapsed: 0:02:17.\n",
            "  Batch   600  of    606.    Elapsed: 0:02:27.\n",
            "\n",
            "  Average training loss: 0.52\n",
            "  Training epcoh took: 0:02:29\n",
            "\n",
            "Running Validation...\n",
            "  Accuracy: 0.92\n",
            "  Validation Loss: 0.20\n",
            "  Validation took: 0:00:07\n",
            "\n",
            "======== Epoch 2 / 20 ========\n",
            "Training...\n",
            "  Batch    40  of    606.    Elapsed: 0:00:10.\n",
            "  Batch    80  of    606.    Elapsed: 0:00:20.\n",
            "  Batch   120  of    606.    Elapsed: 0:00:31.\n",
            "  Batch   160  of    606.    Elapsed: 0:00:41.\n",
            "  Batch   200  of    606.    Elapsed: 0:00:51.\n",
            "  Batch   240  of    606.    Elapsed: 0:01:01.\n",
            "  Batch   280  of    606.    Elapsed: 0:01:11.\n",
            "  Batch   320  of    606.    Elapsed: 0:01:22.\n",
            "  Batch   360  of    606.    Elapsed: 0:01:32.\n",
            "  Batch   400  of    606.    Elapsed: 0:01:42.\n",
            "  Batch   440  of    606.    Elapsed: 0:01:52.\n",
            "  Batch   480  of    606.    Elapsed: 0:02:03.\n",
            "  Batch   520  of    606.    Elapsed: 0:02:13.\n",
            "  Batch   560  of    606.    Elapsed: 0:02:23.\n",
            "  Batch   600  of    606.    Elapsed: 0:02:34.\n",
            "\n",
            "  Average training loss: 0.27\n",
            "  Training epcoh took: 0:02:35\n",
            "\n",
            "Running Validation...\n",
            "  Accuracy: 0.97\n",
            "  Validation Loss: 0.13\n",
            "  Validation took: 0:00:07\n",
            "\n",
            "======== Epoch 3 / 20 ========\n",
            "Training...\n",
            "  Batch    40  of    606.    Elapsed: 0:00:11.\n",
            "  Batch    80  of    606.    Elapsed: 0:00:21.\n",
            "  Batch   120  of    606.    Elapsed: 0:00:31.\n",
            "  Batch   160  of    606.    Elapsed: 0:00:41.\n",
            "  Batch   200  of    606.    Elapsed: 0:00:52.\n",
            "  Batch   240  of    606.    Elapsed: 0:01:02.\n",
            "  Batch   280  of    606.    Elapsed: 0:01:12.\n",
            "  Batch   320  of    606.    Elapsed: 0:01:23.\n",
            "  Batch   360  of    606.    Elapsed: 0:01:33.\n",
            "  Batch   400  of    606.    Elapsed: 0:01:43.\n",
            "  Batch   440  of    606.    Elapsed: 0:01:54.\n",
            "  Batch   480  of    606.    Elapsed: 0:02:04.\n",
            "  Batch   520  of    606.    Elapsed: 0:02:14.\n",
            "  Batch   560  of    606.    Elapsed: 0:02:24.\n",
            "  Batch   600  of    606.    Elapsed: 0:02:35.\n",
            "\n",
            "  Average training loss: 0.19\n",
            "  Training epcoh took: 0:02:36\n",
            "\n",
            "Running Validation...\n",
            "  Accuracy: 0.98\n",
            "  Validation Loss: 0.08\n",
            "  Validation took: 0:00:07\n",
            "\n",
            "======== Epoch 4 / 20 ========\n",
            "Training...\n",
            "  Batch    40  of    606.    Elapsed: 0:00:10.\n",
            "  Batch    80  of    606.    Elapsed: 0:00:21.\n",
            "  Batch   120  of    606.    Elapsed: 0:00:31.\n",
            "  Batch   160  of    606.    Elapsed: 0:00:41.\n",
            "  Batch   200  of    606.    Elapsed: 0:00:51.\n",
            "  Batch   240  of    606.    Elapsed: 0:01:02.\n",
            "  Batch   280  of    606.    Elapsed: 0:01:12.\n",
            "  Batch   320  of    606.    Elapsed: 0:01:22.\n",
            "  Batch   360  of    606.    Elapsed: 0:01:32.\n",
            "  Batch   400  of    606.    Elapsed: 0:01:43.\n",
            "  Batch   440  of    606.    Elapsed: 0:01:53.\n",
            "  Batch   480  of    606.    Elapsed: 0:02:03.\n",
            "  Batch   520  of    606.    Elapsed: 0:02:13.\n",
            "  Batch   560  of    606.    Elapsed: 0:02:24.\n",
            "  Batch   600  of    606.    Elapsed: 0:02:34.\n",
            "\n",
            "  Average training loss: 0.10\n",
            "  Training epcoh took: 0:02:36\n",
            "\n",
            "Running Validation...\n",
            "  Accuracy: 0.99\n",
            "  Validation Loss: 0.06\n",
            "  Validation took: 0:00:07\n",
            "\n",
            "======== Epoch 5 / 20 ========\n",
            "Training...\n",
            "  Batch    40  of    606.    Elapsed: 0:00:10.\n",
            "  Batch    80  of    606.    Elapsed: 0:00:21.\n",
            "  Batch   120  of    606.    Elapsed: 0:00:31.\n",
            "  Batch   160  of    606.    Elapsed: 0:00:41.\n",
            "  Batch   200  of    606.    Elapsed: 0:00:51.\n",
            "  Batch   240  of    606.    Elapsed: 0:01:02.\n",
            "  Batch   280  of    606.    Elapsed: 0:01:12.\n",
            "  Batch   320  of    606.    Elapsed: 0:01:22.\n",
            "  Batch   360  of    606.    Elapsed: 0:01:32.\n",
            "  Batch   400  of    606.    Elapsed: 0:01:43.\n",
            "  Batch   440  of    606.    Elapsed: 0:01:53.\n",
            "  Batch   480  of    606.    Elapsed: 0:02:03.\n",
            "  Batch   520  of    606.    Elapsed: 0:02:13.\n",
            "  Batch   560  of    606.    Elapsed: 0:02:24.\n",
            "  Batch   600  of    606.    Elapsed: 0:02:34.\n",
            "\n",
            "  Average training loss: 0.07\n",
            "  Training epcoh took: 0:02:36\n",
            "\n",
            "Running Validation...\n",
            "  Accuracy: 0.99\n",
            "  Validation Loss: 0.03\n",
            "  Validation took: 0:00:07\n",
            "\n",
            "======== Epoch 6 / 20 ========\n",
            "Training...\n",
            "  Batch    40  of    606.    Elapsed: 0:00:10.\n",
            "  Batch    80  of    606.    Elapsed: 0:00:21.\n",
            "  Batch   120  of    606.    Elapsed: 0:00:31.\n",
            "  Batch   160  of    606.    Elapsed: 0:00:41.\n",
            "  Batch   200  of    606.    Elapsed: 0:00:51.\n",
            "  Batch   240  of    606.    Elapsed: 0:01:02.\n",
            "  Batch   280  of    606.    Elapsed: 0:01:12.\n",
            "  Batch   320  of    606.    Elapsed: 0:01:22.\n",
            "  Batch   360  of    606.    Elapsed: 0:01:32.\n",
            "  Batch   400  of    606.    Elapsed: 0:01:43.\n",
            "  Batch   440  of    606.    Elapsed: 0:01:53.\n",
            "  Batch   480  of    606.    Elapsed: 0:02:03.\n",
            "  Batch   520  of    606.    Elapsed: 0:02:13.\n",
            "  Batch   560  of    606.    Elapsed: 0:02:24.\n",
            "  Batch   600  of    606.    Elapsed: 0:02:34.\n",
            "\n",
            "  Average training loss: 0.05\n",
            "  Training epcoh took: 0:02:35\n",
            "\n",
            "Running Validation...\n",
            "  Accuracy: 0.99\n",
            "  Validation Loss: 0.03\n",
            "  Validation took: 0:00:07\n",
            "\n",
            "======== Epoch 7 / 20 ========\n",
            "Training...\n",
            "  Batch    40  of    606.    Elapsed: 0:00:10.\n",
            "  Batch    80  of    606.    Elapsed: 0:00:21.\n",
            "  Batch   120  of    606.    Elapsed: 0:00:31.\n",
            "  Batch   160  of    606.    Elapsed: 0:00:41.\n",
            "  Batch   200  of    606.    Elapsed: 0:00:51.\n",
            "  Batch   240  of    606.    Elapsed: 0:01:02.\n",
            "  Batch   280  of    606.    Elapsed: 0:01:12.\n",
            "  Batch   320  of    606.    Elapsed: 0:01:22.\n",
            "  Batch   360  of    606.    Elapsed: 0:01:32.\n",
            "  Batch   400  of    606.    Elapsed: 0:01:42.\n",
            "  Batch   440  of    606.    Elapsed: 0:01:53.\n",
            "  Batch   480  of    606.    Elapsed: 0:02:03.\n",
            "  Batch   520  of    606.    Elapsed: 0:02:13.\n",
            "  Batch   560  of    606.    Elapsed: 0:02:23.\n",
            "  Batch   600  of    606.    Elapsed: 0:02:34.\n",
            "\n",
            "  Average training loss: 0.04\n",
            "  Training epcoh took: 0:02:35\n",
            "\n",
            "Running Validation...\n",
            "  Accuracy: 1.00\n",
            "  Validation Loss: 0.01\n",
            "  Validation took: 0:00:07\n",
            "\n",
            "======== Epoch 8 / 20 ========\n",
            "Training...\n",
            "  Batch    40  of    606.    Elapsed: 0:00:10.\n",
            "  Batch    80  of    606.    Elapsed: 0:00:21.\n",
            "  Batch   120  of    606.    Elapsed: 0:00:31.\n",
            "  Batch   160  of    606.    Elapsed: 0:00:41.\n",
            "  Batch   200  of    606.    Elapsed: 0:00:51.\n",
            "  Batch   240  of    606.    Elapsed: 0:01:02.\n",
            "  Batch   280  of    606.    Elapsed: 0:01:12.\n",
            "  Batch   320  of    606.    Elapsed: 0:01:22.\n",
            "  Batch   360  of    606.    Elapsed: 0:01:32.\n",
            "  Batch   400  of    606.    Elapsed: 0:01:42.\n",
            "  Batch   440  of    606.    Elapsed: 0:01:53.\n",
            "  Batch   480  of    606.    Elapsed: 0:02:03.\n",
            "  Batch   520  of    606.    Elapsed: 0:02:13.\n",
            "  Batch   560  of    606.    Elapsed: 0:02:23.\n",
            "  Batch   600  of    606.    Elapsed: 0:02:33.\n",
            "\n",
            "  Average training loss: 0.03\n",
            "  Training epcoh took: 0:02:35\n",
            "\n",
            "Running Validation...\n",
            "  Accuracy: 1.00\n",
            "  Validation Loss: 0.01\n",
            "  Validation took: 0:00:07\n",
            "\n",
            "======== Epoch 9 / 20 ========\n",
            "Training...\n",
            "  Batch    40  of    606.    Elapsed: 0:00:10.\n",
            "  Batch    80  of    606.    Elapsed: 0:00:21.\n",
            "  Batch   120  of    606.    Elapsed: 0:00:31.\n",
            "  Batch   160  of    606.    Elapsed: 0:00:41.\n",
            "  Batch   200  of    606.    Elapsed: 0:00:51.\n",
            "  Batch   240  of    606.    Elapsed: 0:01:02.\n",
            "  Batch   280  of    606.    Elapsed: 0:01:12.\n",
            "  Batch   320  of    606.    Elapsed: 0:01:22.\n",
            "  Batch   360  of    606.    Elapsed: 0:01:32.\n",
            "  Batch   400  of    606.    Elapsed: 0:01:43.\n",
            "  Batch   440  of    606.    Elapsed: 0:01:53.\n",
            "  Batch   480  of    606.    Elapsed: 0:02:03.\n",
            "  Batch   520  of    606.    Elapsed: 0:02:13.\n",
            "  Batch   560  of    606.    Elapsed: 0:02:23.\n",
            "  Batch   600  of    606.    Elapsed: 0:02:34.\n",
            "\n",
            "  Average training loss: 0.02\n",
            "  Training epcoh took: 0:02:35\n",
            "\n",
            "Running Validation...\n",
            "  Accuracy: 1.00\n",
            "  Validation Loss: 0.00\n",
            "  Validation took: 0:00:07\n",
            "\n",
            "======== Epoch 10 / 20 ========\n",
            "Training...\n",
            "  Batch    40  of    606.    Elapsed: 0:00:10.\n",
            "  Batch    80  of    606.    Elapsed: 0:00:21.\n",
            "  Batch   120  of    606.    Elapsed: 0:00:31.\n",
            "  Batch   160  of    606.    Elapsed: 0:00:41.\n",
            "  Batch   200  of    606.    Elapsed: 0:00:51.\n",
            "  Batch   240  of    606.    Elapsed: 0:01:01.\n",
            "  Batch   280  of    606.    Elapsed: 0:01:12.\n",
            "  Batch   320  of    606.    Elapsed: 0:01:22.\n",
            "  Batch   360  of    606.    Elapsed: 0:01:32.\n",
            "  Batch   400  of    606.    Elapsed: 0:01:42.\n",
            "  Batch   440  of    606.    Elapsed: 0:01:53.\n",
            "  Batch   480  of    606.    Elapsed: 0:02:03.\n",
            "  Batch   520  of    606.    Elapsed: 0:02:13.\n",
            "  Batch   560  of    606.    Elapsed: 0:02:23.\n",
            "  Batch   600  of    606.    Elapsed: 0:02:33.\n",
            "\n",
            "  Average training loss: 0.02\n",
            "  Training epcoh took: 0:02:35\n",
            "\n",
            "Running Validation...\n",
            "  Accuracy: 1.00\n",
            "  Validation Loss: 0.02\n",
            "  Validation took: 0:00:07\n",
            "\n",
            "======== Epoch 11 / 20 ========\n",
            "Training...\n",
            "  Batch    40  of    606.    Elapsed: 0:00:10.\n",
            "  Batch    80  of    606.    Elapsed: 0:00:21.\n",
            "  Batch   120  of    606.    Elapsed: 0:00:31.\n",
            "  Batch   160  of    606.    Elapsed: 0:00:41.\n",
            "  Batch   200  of    606.    Elapsed: 0:00:51.\n",
            "  Batch   240  of    606.    Elapsed: 0:01:02.\n",
            "  Batch   280  of    606.    Elapsed: 0:01:12.\n",
            "  Batch   320  of    606.    Elapsed: 0:01:22.\n",
            "  Batch   360  of    606.    Elapsed: 0:01:32.\n",
            "  Batch   400  of    606.    Elapsed: 0:01:42.\n",
            "  Batch   440  of    606.    Elapsed: 0:01:53.\n",
            "  Batch   480  of    606.    Elapsed: 0:02:03.\n",
            "  Batch   520  of    606.    Elapsed: 0:02:13.\n",
            "  Batch   560  of    606.    Elapsed: 0:02:23.\n",
            "  Batch   600  of    606.    Elapsed: 0:02:34.\n",
            "\n",
            "  Average training loss: 0.02\n",
            "  Training epcoh took: 0:02:35\n",
            "\n",
            "Running Validation...\n",
            "  Accuracy: 1.00\n",
            "  Validation Loss: 0.00\n",
            "  Validation took: 0:00:07\n",
            "\n",
            "======== Epoch 12 / 20 ========\n",
            "Training...\n",
            "  Batch    40  of    606.    Elapsed: 0:00:10.\n",
            "  Batch    80  of    606.    Elapsed: 0:00:21.\n",
            "  Batch   120  of    606.    Elapsed: 0:00:31.\n",
            "  Batch   160  of    606.    Elapsed: 0:00:41.\n",
            "  Batch   200  of    606.    Elapsed: 0:00:51.\n",
            "  Batch   240  of    606.    Elapsed: 0:01:02.\n",
            "  Batch   280  of    606.    Elapsed: 0:01:12.\n",
            "  Batch   320  of    606.    Elapsed: 0:01:22.\n",
            "  Batch   360  of    606.    Elapsed: 0:01:32.\n",
            "  Batch   400  of    606.    Elapsed: 0:01:42.\n",
            "  Batch   440  of    606.    Elapsed: 0:01:53.\n",
            "  Batch   480  of    606.    Elapsed: 0:02:03.\n",
            "  Batch   520  of    606.    Elapsed: 0:02:13.\n",
            "  Batch   560  of    606.    Elapsed: 0:02:23.\n",
            "  Batch   600  of    606.    Elapsed: 0:02:34.\n",
            "\n",
            "  Average training loss: 0.02\n",
            "  Training epcoh took: 0:02:35\n",
            "\n",
            "Running Validation...\n",
            "  Accuracy: 1.00\n",
            "  Validation Loss: 0.00\n",
            "  Validation took: 0:00:07\n",
            "\n",
            "======== Epoch 13 / 20 ========\n",
            "Training...\n",
            "  Batch    40  of    606.    Elapsed: 0:00:10.\n",
            "  Batch    80  of    606.    Elapsed: 0:00:21.\n",
            "  Batch   120  of    606.    Elapsed: 0:00:31.\n",
            "  Batch   160  of    606.    Elapsed: 0:00:41.\n",
            "  Batch   200  of    606.    Elapsed: 0:00:51.\n",
            "  Batch   240  of    606.    Elapsed: 0:01:02.\n",
            "  Batch   280  of    606.    Elapsed: 0:01:12.\n",
            "  Batch   320  of    606.    Elapsed: 0:01:22.\n",
            "  Batch   360  of    606.    Elapsed: 0:01:32.\n",
            "  Batch   400  of    606.    Elapsed: 0:01:42.\n",
            "  Batch   440  of    606.    Elapsed: 0:01:53.\n",
            "  Batch   480  of    606.    Elapsed: 0:02:03.\n",
            "  Batch   520  of    606.    Elapsed: 0:02:13.\n",
            "  Batch   560  of    606.    Elapsed: 0:02:23.\n",
            "  Batch   600  of    606.    Elapsed: 0:02:34.\n",
            "\n",
            "  Average training loss: 0.02\n",
            "  Training epcoh took: 0:02:35\n",
            "\n",
            "Running Validation...\n",
            "  Accuracy: 1.00\n",
            "  Validation Loss: 0.00\n",
            "  Validation took: 0:00:07\n",
            "\n",
            "======== Epoch 14 / 20 ========\n",
            "Training...\n",
            "  Batch    40  of    606.    Elapsed: 0:00:10.\n",
            "  Batch    80  of    606.    Elapsed: 0:00:21.\n",
            "  Batch   120  of    606.    Elapsed: 0:00:31.\n",
            "  Batch   160  of    606.    Elapsed: 0:00:41.\n",
            "  Batch   200  of    606.    Elapsed: 0:00:51.\n",
            "  Batch   240  of    606.    Elapsed: 0:01:02.\n",
            "  Batch   280  of    606.    Elapsed: 0:01:12.\n",
            "  Batch   320  of    606.    Elapsed: 0:01:22.\n",
            "  Batch   360  of    606.    Elapsed: 0:01:32.\n",
            "  Batch   400  of    606.    Elapsed: 0:01:43.\n",
            "  Batch   440  of    606.    Elapsed: 0:01:53.\n",
            "  Batch   480  of    606.    Elapsed: 0:02:03.\n",
            "  Batch   520  of    606.    Elapsed: 0:02:13.\n",
            "  Batch   560  of    606.    Elapsed: 0:02:24.\n",
            "  Batch   600  of    606.    Elapsed: 0:02:34.\n",
            "\n",
            "  Average training loss: 0.02\n",
            "  Training epcoh took: 0:02:35\n",
            "\n",
            "Running Validation...\n",
            "  Accuracy: 1.00\n",
            "  Validation Loss: 0.00\n",
            "  Validation took: 0:00:07\n",
            "\n",
            "======== Epoch 15 / 20 ========\n",
            "Training...\n",
            "  Batch    40  of    606.    Elapsed: 0:00:10.\n",
            "  Batch    80  of    606.    Elapsed: 0:00:21.\n",
            "  Batch   120  of    606.    Elapsed: 0:00:31.\n",
            "  Batch   160  of    606.    Elapsed: 0:00:41.\n",
            "  Batch   200  of    606.    Elapsed: 0:00:51.\n",
            "  Batch   240  of    606.    Elapsed: 0:01:02.\n",
            "  Batch   280  of    606.    Elapsed: 0:01:12.\n",
            "  Batch   320  of    606.    Elapsed: 0:01:22.\n",
            "  Batch   360  of    606.    Elapsed: 0:01:32.\n",
            "  Batch   400  of    606.    Elapsed: 0:01:43.\n",
            "  Batch   440  of    606.    Elapsed: 0:01:53.\n",
            "  Batch   480  of    606.    Elapsed: 0:02:03.\n",
            "  Batch   520  of    606.    Elapsed: 0:02:13.\n",
            "  Batch   560  of    606.    Elapsed: 0:02:24.\n",
            "  Batch   600  of    606.    Elapsed: 0:02:34.\n",
            "\n",
            "  Average training loss: 0.01\n",
            "  Training epcoh took: 0:02:35\n",
            "\n",
            "Running Validation...\n",
            "  Accuracy: 1.00\n",
            "  Validation Loss: 0.00\n",
            "  Validation took: 0:00:07\n",
            "\n",
            "======== Epoch 16 / 20 ========\n",
            "Training...\n",
            "  Batch    40  of    606.    Elapsed: 0:00:10.\n",
            "  Batch    80  of    606.    Elapsed: 0:00:21.\n",
            "  Batch   120  of    606.    Elapsed: 0:00:31.\n",
            "  Batch   160  of    606.    Elapsed: 0:00:41.\n",
            "  Batch   200  of    606.    Elapsed: 0:00:51.\n",
            "  Batch   240  of    606.    Elapsed: 0:01:02.\n",
            "  Batch   280  of    606.    Elapsed: 0:01:12.\n",
            "  Batch   320  of    606.    Elapsed: 0:01:22.\n",
            "  Batch   360  of    606.    Elapsed: 0:01:32.\n",
            "  Batch   400  of    606.    Elapsed: 0:01:42.\n",
            "  Batch   440  of    606.    Elapsed: 0:01:53.\n",
            "  Batch   480  of    606.    Elapsed: 0:02:03.\n",
            "  Batch   520  of    606.    Elapsed: 0:02:13.\n",
            "  Batch   560  of    606.    Elapsed: 0:02:23.\n",
            "  Batch   600  of    606.    Elapsed: 0:02:33.\n",
            "\n",
            "  Average training loss: 0.00\n",
            "  Training epcoh took: 0:02:35\n",
            "\n",
            "Running Validation...\n",
            "  Accuracy: 1.00\n",
            "  Validation Loss: 0.00\n",
            "  Validation took: 0:00:07\n",
            "\n",
            "======== Epoch 17 / 20 ========\n",
            "Training...\n",
            "  Batch    40  of    606.    Elapsed: 0:00:10.\n",
            "  Batch    80  of    606.    Elapsed: 0:00:21.\n",
            "  Batch   120  of    606.    Elapsed: 0:00:31.\n",
            "  Batch   160  of    606.    Elapsed: 0:00:41.\n",
            "  Batch   200  of    606.    Elapsed: 0:00:51.\n",
            "  Batch   240  of    606.    Elapsed: 0:01:01.\n",
            "  Batch   280  of    606.    Elapsed: 0:01:12.\n",
            "  Batch   320  of    606.    Elapsed: 0:01:22.\n",
            "  Batch   360  of    606.    Elapsed: 0:01:32.\n",
            "  Batch   400  of    606.    Elapsed: 0:01:42.\n",
            "  Batch   440  of    606.    Elapsed: 0:01:53.\n",
            "  Batch   480  of    606.    Elapsed: 0:02:03.\n",
            "  Batch   520  of    606.    Elapsed: 0:02:13.\n",
            "  Batch   560  of    606.    Elapsed: 0:02:23.\n",
            "  Batch   600  of    606.    Elapsed: 0:02:34.\n",
            "\n",
            "  Average training loss: 0.01\n",
            "  Training epcoh took: 0:02:35\n",
            "\n",
            "Running Validation...\n",
            "  Accuracy: 1.00\n",
            "  Validation Loss: 0.00\n",
            "  Validation took: 0:00:07\n",
            "\n",
            "======== Epoch 18 / 20 ========\n",
            "Training...\n",
            "  Batch    40  of    606.    Elapsed: 0:00:10.\n",
            "  Batch    80  of    606.    Elapsed: 0:00:21.\n",
            "  Batch   120  of    606.    Elapsed: 0:00:31.\n",
            "  Batch   160  of    606.    Elapsed: 0:00:41.\n",
            "  Batch   200  of    606.    Elapsed: 0:00:51.\n",
            "  Batch   240  of    606.    Elapsed: 0:01:02.\n",
            "  Batch   280  of    606.    Elapsed: 0:01:12.\n",
            "  Batch   320  of    606.    Elapsed: 0:01:22.\n",
            "  Batch   360  of    606.    Elapsed: 0:01:32.\n",
            "  Batch   400  of    606.    Elapsed: 0:01:43.\n",
            "  Batch   440  of    606.    Elapsed: 0:01:53.\n",
            "  Batch   480  of    606.    Elapsed: 0:02:03.\n",
            "  Batch   520  of    606.    Elapsed: 0:02:13.\n",
            "  Batch   560  of    606.    Elapsed: 0:02:23.\n",
            "  Batch   600  of    606.    Elapsed: 0:02:34.\n",
            "\n",
            "  Average training loss: 0.01\n",
            "  Training epcoh took: 0:02:35\n",
            "\n",
            "Running Validation...\n",
            "  Accuracy: 1.00\n",
            "  Validation Loss: 0.00\n",
            "  Validation took: 0:00:07\n",
            "\n",
            "======== Epoch 19 / 20 ========\n",
            "Training...\n",
            "  Batch    40  of    606.    Elapsed: 0:00:10.\n",
            "  Batch    80  of    606.    Elapsed: 0:00:21.\n",
            "  Batch   120  of    606.    Elapsed: 0:00:31.\n",
            "  Batch   160  of    606.    Elapsed: 0:00:41.\n",
            "  Batch   200  of    606.    Elapsed: 0:00:51.\n",
            "  Batch   240  of    606.    Elapsed: 0:01:02.\n",
            "  Batch   280  of    606.    Elapsed: 0:01:12.\n",
            "  Batch   320  of    606.    Elapsed: 0:01:22.\n",
            "  Batch   360  of    606.    Elapsed: 0:01:32.\n",
            "  Batch   400  of    606.    Elapsed: 0:01:42.\n",
            "  Batch   440  of    606.    Elapsed: 0:01:53.\n",
            "  Batch   480  of    606.    Elapsed: 0:02:03.\n",
            "  Batch   520  of    606.    Elapsed: 0:02:13.\n",
            "  Batch   560  of    606.    Elapsed: 0:02:23.\n",
            "  Batch   600  of    606.    Elapsed: 0:02:34.\n",
            "\n",
            "  Average training loss: 0.00\n",
            "  Training epcoh took: 0:02:35\n",
            "\n",
            "Running Validation...\n",
            "  Accuracy: 1.00\n",
            "  Validation Loss: 0.00\n",
            "  Validation took: 0:00:07\n",
            "\n",
            "======== Epoch 20 / 20 ========\n",
            "Training...\n",
            "  Batch    40  of    606.    Elapsed: 0:00:10.\n",
            "  Batch    80  of    606.    Elapsed: 0:00:21.\n",
            "  Batch   120  of    606.    Elapsed: 0:00:31.\n",
            "  Batch   160  of    606.    Elapsed: 0:00:41.\n",
            "  Batch   200  of    606.    Elapsed: 0:00:51.\n",
            "  Batch   240  of    606.    Elapsed: 0:01:01.\n",
            "  Batch   280  of    606.    Elapsed: 0:01:12.\n",
            "  Batch   320  of    606.    Elapsed: 0:01:22.\n",
            "  Batch   360  of    606.    Elapsed: 0:01:32.\n",
            "  Batch   400  of    606.    Elapsed: 0:01:42.\n",
            "  Batch   440  of    606.    Elapsed: 0:01:53.\n",
            "  Batch   480  of    606.    Elapsed: 0:02:03.\n",
            "  Batch   520  of    606.    Elapsed: 0:02:13.\n",
            "  Batch   560  of    606.    Elapsed: 0:02:23.\n",
            "  Batch   600  of    606.    Elapsed: 0:02:33.\n",
            "\n",
            "  Average training loss: 0.01\n",
            "  Training epcoh took: 0:02:35\n",
            "\n",
            "Running Validation...\n",
            "  Accuracy: 1.00\n",
            "  Validation Loss: 0.00\n",
            "  Validation took: 0:00:07\n",
            "\n",
            "Training complete!\n",
            "Total training took 0:54:09 (h:mm:ss)\n"
          ],
          "name": "stdout"
        }
      ]
    },
    {
      "cell_type": "code",
      "metadata": {
        "id": "ktbae9PSfKKm",
        "colab_type": "code",
        "outputId": "2c5c2221-8bfe-4c1a-f053-925fe3b19c8f",
        "colab": {
          "base_uri": "https://localhost:8080/",
          "height": 669
        }
      },
      "source": [
        "\n",
        "# Display floats with two decimal places.\n",
        "pd.set_option('precision', 2)\n",
        "\n",
        "# Create a DataFrame from our training statistics.\n",
        "df_stats = pd.DataFrame(data=training_stats)\n",
        "\n",
        "# Use the 'epoch' as the row index.\n",
        "df_stats = df_stats.set_index('epoch')\n",
        "\n",
        "# A hack to force the column headers to wrap.\n",
        "#df = df.style.set_table_styles([dict(selector=\"th\",props=[('max-width', '70px')])])\n",
        "\n",
        "# Display the table.\n",
        "df_stats\n"
      ],
      "execution_count": 36,
      "outputs": [
        {
          "output_type": "execute_result",
          "data": {
            "text/html": [
              "<div>\n",
              "<style scoped>\n",
              "    .dataframe tbody tr th:only-of-type {\n",
              "        vertical-align: middle;\n",
              "    }\n",
              "\n",
              "    .dataframe tbody tr th {\n",
              "        vertical-align: top;\n",
              "    }\n",
              "\n",
              "    .dataframe thead th {\n",
              "        text-align: right;\n",
              "    }\n",
              "</style>\n",
              "<table border=\"1\" class=\"dataframe\">\n",
              "  <thead>\n",
              "    <tr style=\"text-align: right;\">\n",
              "      <th></th>\n",
              "      <th>Training Loss</th>\n",
              "      <th>Valid. Loss</th>\n",
              "      <th>Valid. Accur.</th>\n",
              "      <th>Training Time</th>\n",
              "      <th>Validation Time</th>\n",
              "    </tr>\n",
              "    <tr>\n",
              "      <th>epoch</th>\n",
              "      <th></th>\n",
              "      <th></th>\n",
              "      <th></th>\n",
              "      <th></th>\n",
              "      <th></th>\n",
              "    </tr>\n",
              "  </thead>\n",
              "  <tbody>\n",
              "    <tr>\n",
              "      <th>1</th>\n",
              "      <td>5.23e-01</td>\n",
              "      <td>2.04e-01</td>\n",
              "      <td>0.92</td>\n",
              "      <td>0:02:29</td>\n",
              "      <td>0:00:07</td>\n",
              "    </tr>\n",
              "    <tr>\n",
              "      <th>2</th>\n",
              "      <td>2.71e-01</td>\n",
              "      <td>1.26e-01</td>\n",
              "      <td>0.97</td>\n",
              "      <td>0:02:35</td>\n",
              "      <td>0:00:07</td>\n",
              "    </tr>\n",
              "    <tr>\n",
              "      <th>3</th>\n",
              "      <td>1.86e-01</td>\n",
              "      <td>7.98e-02</td>\n",
              "      <td>0.98</td>\n",
              "      <td>0:02:36</td>\n",
              "      <td>0:00:07</td>\n",
              "    </tr>\n",
              "    <tr>\n",
              "      <th>4</th>\n",
              "      <td>9.65e-02</td>\n",
              "      <td>5.69e-02</td>\n",
              "      <td>0.99</td>\n",
              "      <td>0:02:36</td>\n",
              "      <td>0:00:07</td>\n",
              "    </tr>\n",
              "    <tr>\n",
              "      <th>5</th>\n",
              "      <td>7.13e-02</td>\n",
              "      <td>3.27e-02</td>\n",
              "      <td>0.99</td>\n",
              "      <td>0:02:36</td>\n",
              "      <td>0:00:07</td>\n",
              "    </tr>\n",
              "    <tr>\n",
              "      <th>6</th>\n",
              "      <td>5.06e-02</td>\n",
              "      <td>3.29e-02</td>\n",
              "      <td>0.99</td>\n",
              "      <td>0:02:35</td>\n",
              "      <td>0:00:07</td>\n",
              "    </tr>\n",
              "    <tr>\n",
              "      <th>7</th>\n",
              "      <td>4.14e-02</td>\n",
              "      <td>9.84e-03</td>\n",
              "      <td>1.00</td>\n",
              "      <td>0:02:35</td>\n",
              "      <td>0:00:07</td>\n",
              "    </tr>\n",
              "    <tr>\n",
              "      <th>8</th>\n",
              "      <td>2.79e-02</td>\n",
              "      <td>6.08e-03</td>\n",
              "      <td>1.00</td>\n",
              "      <td>0:02:35</td>\n",
              "      <td>0:00:07</td>\n",
              "    </tr>\n",
              "    <tr>\n",
              "      <th>9</th>\n",
              "      <td>1.78e-02</td>\n",
              "      <td>4.48e-03</td>\n",
              "      <td>1.00</td>\n",
              "      <td>0:02:35</td>\n",
              "      <td>0:00:07</td>\n",
              "    </tr>\n",
              "    <tr>\n",
              "      <th>10</th>\n",
              "      <td>2.07e-02</td>\n",
              "      <td>2.45e-02</td>\n",
              "      <td>1.00</td>\n",
              "      <td>0:02:35</td>\n",
              "      <td>0:00:07</td>\n",
              "    </tr>\n",
              "    <tr>\n",
              "      <th>11</th>\n",
              "      <td>2.35e-02</td>\n",
              "      <td>2.29e-03</td>\n",
              "      <td>1.00</td>\n",
              "      <td>0:02:35</td>\n",
              "      <td>0:00:07</td>\n",
              "    </tr>\n",
              "    <tr>\n",
              "      <th>12</th>\n",
              "      <td>1.70e-02</td>\n",
              "      <td>2.34e-03</td>\n",
              "      <td>1.00</td>\n",
              "      <td>0:02:35</td>\n",
              "      <td>0:00:07</td>\n",
              "    </tr>\n",
              "    <tr>\n",
              "      <th>13</th>\n",
              "      <td>2.01e-02</td>\n",
              "      <td>1.93e-03</td>\n",
              "      <td>1.00</td>\n",
              "      <td>0:02:35</td>\n",
              "      <td>0:00:07</td>\n",
              "    </tr>\n",
              "    <tr>\n",
              "      <th>14</th>\n",
              "      <td>1.61e-02</td>\n",
              "      <td>2.38e-03</td>\n",
              "      <td>1.00</td>\n",
              "      <td>0:02:35</td>\n",
              "      <td>0:00:07</td>\n",
              "    </tr>\n",
              "    <tr>\n",
              "      <th>15</th>\n",
              "      <td>7.55e-03</td>\n",
              "      <td>1.98e-03</td>\n",
              "      <td>1.00</td>\n",
              "      <td>0:02:35</td>\n",
              "      <td>0:00:07</td>\n",
              "    </tr>\n",
              "    <tr>\n",
              "      <th>16</th>\n",
              "      <td>3.44e-03</td>\n",
              "      <td>1.69e-03</td>\n",
              "      <td>1.00</td>\n",
              "      <td>0:02:35</td>\n",
              "      <td>0:00:07</td>\n",
              "    </tr>\n",
              "    <tr>\n",
              "      <th>17</th>\n",
              "      <td>7.24e-03</td>\n",
              "      <td>1.63e-03</td>\n",
              "      <td>1.00</td>\n",
              "      <td>0:02:35</td>\n",
              "      <td>0:00:07</td>\n",
              "    </tr>\n",
              "    <tr>\n",
              "      <th>18</th>\n",
              "      <td>7.12e-03</td>\n",
              "      <td>1.32e-03</td>\n",
              "      <td>1.00</td>\n",
              "      <td>0:02:35</td>\n",
              "      <td>0:00:07</td>\n",
              "    </tr>\n",
              "    <tr>\n",
              "      <th>19</th>\n",
              "      <td>2.73e-03</td>\n",
              "      <td>1.24e-03</td>\n",
              "      <td>1.00</td>\n",
              "      <td>0:02:35</td>\n",
              "      <td>0:00:07</td>\n",
              "    </tr>\n",
              "    <tr>\n",
              "      <th>20</th>\n",
              "      <td>5.05e-03</td>\n",
              "      <td>1.23e-03</td>\n",
              "      <td>1.00</td>\n",
              "      <td>0:02:35</td>\n",
              "      <td>0:00:07</td>\n",
              "    </tr>\n",
              "  </tbody>\n",
              "</table>\n",
              "</div>"
            ],
            "text/plain": [
              "       Training Loss  Valid. Loss  Valid. Accur. Training Time Validation Time\n",
              "epoch                                                                         \n",
              "1           5.23e-01     2.04e-01           0.92       0:02:29         0:00:07\n",
              "2           2.71e-01     1.26e-01           0.97       0:02:35         0:00:07\n",
              "3           1.86e-01     7.98e-02           0.98       0:02:36         0:00:07\n",
              "4           9.65e-02     5.69e-02           0.99       0:02:36         0:00:07\n",
              "5           7.13e-02     3.27e-02           0.99       0:02:36         0:00:07\n",
              "6           5.06e-02     3.29e-02           0.99       0:02:35         0:00:07\n",
              "7           4.14e-02     9.84e-03           1.00       0:02:35         0:00:07\n",
              "8           2.79e-02     6.08e-03           1.00       0:02:35         0:00:07\n",
              "9           1.78e-02     4.48e-03           1.00       0:02:35         0:00:07\n",
              "10          2.07e-02     2.45e-02           1.00       0:02:35         0:00:07\n",
              "11          2.35e-02     2.29e-03           1.00       0:02:35         0:00:07\n",
              "12          1.70e-02     2.34e-03           1.00       0:02:35         0:00:07\n",
              "13          2.01e-02     1.93e-03           1.00       0:02:35         0:00:07\n",
              "14          1.61e-02     2.38e-03           1.00       0:02:35         0:00:07\n",
              "15          7.55e-03     1.98e-03           1.00       0:02:35         0:00:07\n",
              "16          3.44e-03     1.69e-03           1.00       0:02:35         0:00:07\n",
              "17          7.24e-03     1.63e-03           1.00       0:02:35         0:00:07\n",
              "18          7.12e-03     1.32e-03           1.00       0:02:35         0:00:07\n",
              "19          2.73e-03     1.24e-03           1.00       0:02:35         0:00:07\n",
              "20          5.05e-03     1.23e-03           1.00       0:02:35         0:00:07"
            ]
          },
          "metadata": {
            "tags": []
          },
          "execution_count": 36
        }
      ]
    },
    {
      "cell_type": "code",
      "metadata": {
        "id": "-ZvCfKWPlpH3",
        "colab_type": "code",
        "outputId": "a7ae07c3-bb89-4b50-d234-6ea4d042672b",
        "colab": {
          "base_uri": "https://localhost:8080/",
          "height": 424
        }
      },
      "source": [
        "# Use plot styling from seaborn.\n",
        "sns.set(style='darkgrid')\n",
        "\n",
        "# Increase the plot size and font size.\n",
        "sns.set(font_scale=1.5)\n",
        "plt.rcParams[\"figure.figsize\"] = (12,6)\n",
        "\n",
        "# Plot the learning curve.\n",
        "plt.plot(df_stats['Training Loss'], 'b-o', label=\"Training\")\n",
        "plt.plot(df_stats['Valid. Loss'], 'g-o', label=\"Validation\")\n",
        "\n",
        "# Label the plot.\n",
        "plt.title(\"Training & Validation Loss\")\n",
        "plt.xlabel(\"Epoch\")\n",
        "plt.ylabel(\"Loss\")\n",
        "plt.legend()\n",
        "plt.xticks([1, 2, 3, 4])\n",
        "\n",
        "plt.show()"
      ],
      "execution_count": 37,
      "outputs": [
        {
          "output_type": "display_data",
          "data": {
            "image/png": "[encoded data removed]",
            "text/plain": [
              "<Figure size 864x432 with 1 Axes>"
            ]
          },
          "metadata": {
            "tags": [],
            "image/png": {
              "width": 740,
              "height": 407
            }
          }
        }
      ]
    },
    {
      "cell_type": "code",
      "metadata": {
        "id": "ShfR9FTjoLlA",
        "colab_type": "code",
        "outputId": "59076ac5-4bc0-4a12-b7ae-c895cfd6262b",
        "colab": {
          "base_uri": "https://localhost:8080/",
          "height": 50
        }
      },
      "source": [
        "from torch.utils.data import TensorDataset, random_split, SequentialSampler\n",
        "# Load the dataset into a pandas dataframe.\n",
        "\n",
        "# Report the number of sentences.\n",
        "print('Number of test sentences: {:,}\\n'.format(df_test.shape[0]))\n",
        "\n",
        "# Create sentence and label lists\n",
        "sentences = df_test.content.values\n",
        "labels = df_test.sentiment.values\n",
        "\n",
        "# Tokenize all of the sentences and map the tokens to thier word IDs.\n",
        "input_ids = []\n",
        "attention_masks = []\n",
        "\n",
        "# For every sentence...\n",
        "for sent in sentences:\n",
        "    # `encode_plus` will:\n",
        "    #   (1) Tokenize the sentence.\n",
        "    #   (2) Prepend the `[CLS]` token to the start.\n",
        "    #   (3) Append the `[SEP]` token to the end.\n",
        "    #   (4) Map tokens to their IDs.\n",
        "    #   (5) Pad or truncate the sentence to `max_length`\n",
        "    #   (6) Create attention masks for [PAD] tokens.\n",
        "    encoded_dict = tokenizer.encode_plus(\n",
        "                        sent,                      # Sentence to encode.\n",
        "                        add_special_tokens = True, # Add '[CLS]' and '[SEP]'\n",
        "                        max_length = MAX_LEN,           # Pad & truncate all sentences.\n",
        "                        pad_to_max_length = True,\n",
        "                        return_attention_mask = True,   # Construct attn. masks.\n",
        "                        return_tensors = 'pt',     # Return pytorch tensors.\n",
        "                   )\n",
        "    \n",
        "    # Add the encoded sentence to the list.    \n",
        "    input_ids.append(encoded_dict['input_ids'])\n",
        "    \n",
        "    # And its attention mask (simply differentiates padding from non-padding).\n",
        "    attention_masks.append(encoded_dict['attention_mask'])\n",
        "\n",
        "# Convert the lists into tensors.\n",
        "input_ids = torch.cat(input_ids, dim=0)\n",
        "attention_masks = torch.cat(attention_masks, dim=0)\n",
        "labels = torch.tensor(labels)\n",
        "\n",
        "# Set the batch size.  \n",
        "batch_size = 8\n",
        "\n",
        "## Create the DataLoader.\n",
        "prediction_data = TensorDataset(input_ids, attention_masks, labels)\n",
        "prediction_sampler = SequentialSampler(prediction_data)\n",
        "prediction_dataloader = DataLoader(prediction_data, sampler=prediction_sampler, batch_size=batch_size)"
      ],
      "execution_count": 38,
      "outputs": [
        {
          "output_type": "stream",
          "text": [
            "Number of test sentences: 727\n",
            "\n"
          ],
          "name": "stdout"
        }
      ]
    },
    {
      "cell_type": "code",
      "metadata": {
        "id": "zLbQf00rlwK3",
        "colab_type": "code",
        "outputId": "548ac4ea-d763-4da1-bbc4-74c81e3a3706",
        "colab": {
          "base_uri": "https://localhost:8080/",
          "height": 50
        }
      },
      "source": [
        "# Prediction on test set\n",
        "\n",
        "print('Predicting labels for {:,} test sentences...'.format(len(input_ids)))\n",
        "\n",
        "# Put model in evaluation mode\n",
        "model.eval()\n",
        "\n",
        "# Tracking variables \n",
        "predictions , true_labels = [], []\n",
        "\n",
        "# Predict \n",
        "for batch in prediction_dataloader:\n",
        "  # Add batch to GPU\n",
        "  batch = tuple(t.to(device) for t in batch)\n",
        "  \n",
        "  # Unpack the inputs from our dataloader\n",
        "  b_input_ids, b_input_mask, b_labels = batch\n",
        "  \n",
        "  # Telling the model not to compute or store gradients, saving memory and \n",
        "  # speeding up prediction\n",
        "  with torch.no_grad():\n",
        "      # Forward pass, calculate logit predictions\n",
        "      outputs = model(b_input_ids, token_type_ids=None, \n",
        "                      attention_mask=b_input_mask)\n",
        "\n",
        "  logits = outputs[0]\n",
        "\n",
        "  # Move logits and labels to CPU\n",
        "  logits = logits.detach().cpu().numpy()\n",
        "  label_ids = b_labels.to('cpu').numpy()\n",
        "  \n",
        "  # Store predictions and true labels\n",
        "  predictions.append(logits)\n",
        "  true_labels.append(label_ids)\n",
        "\n",
        "print('    DONE.')\n"
      ],
      "execution_count": 39,
      "outputs": [
        {
          "output_type": "stream",
          "text": [
            "Predicting labels for 727 test sentences...\n",
            "    DONE.\n"
          ],
          "name": "stdout"
        }
      ]
    },
    {
      "cell_type": "code",
      "metadata": {
        "id": "fvYGS-krrQQ8",
        "colab_type": "code",
        "outputId": "bc162697-921c-4537-9782-41ac1ec29b01",
        "colab": {
          "base_uri": "https://localhost:8080/",
          "height": 34
        }
      },
      "source": [
        "print('Positive samples: %d of %d (%.2f%%)' % (len(df_test[df_test.sentiment == 2]), len(df_test.sentiment), (len(df_test[df_test.sentiment == 2]) / len(df_test.sentiment) * 100.0)))"
      ],
      "execution_count": 40,
      "outputs": [
        {
          "output_type": "stream",
          "text": [
            "Positive samples: 185 of 727 (25.45%)\n"
          ],
          "name": "stdout"
        }
      ]
    },
    {
      "cell_type": "code",
      "metadata": {
        "id": "zLo2oYudrQL-",
        "colab_type": "code",
        "colab": {}
      },
      "source": [
        "# Combine the results across all batches. \n",
        "flat_predictions = np.concatenate(predictions, axis=0)\n",
        "\n",
        "# For each sample, pick the label (0 or 1) with the higher score.\n",
        "flat_predictions = np.argmax(flat_predictions, axis=1).flatten()\n",
        "\n",
        "# Combine the correct labels for each batch into a single list.\n",
        "flat_true_labels = np.concatenate(true_labels, axis=0)"
      ],
      "execution_count": 0,
      "outputs": []
    },
    {
      "cell_type": "code",
      "metadata": {
        "id": "zcn220_cu_an",
        "colab_type": "code",
        "colab": {
          "base_uri": "https://localhost:8080/",
          "height": 185
        },
        "outputId": "79bebc66-5e30-4bf7-f1b8-bf47a01310b6"
      },
      "source": [
        "class_names = ['negative', 'neutral', 'positive']\n",
        "print(classification_report(flat_true_labels, flat_predictions, target_names=class_names))"
      ],
      "execution_count": 42,
      "outputs": [
        {
          "output_type": "stream",
          "text": [
            "              precision    recall  f1-score   support\n",
            "\n",
            "    negative       1.00      1.00      1.00        98\n",
            "     neutral       1.00      1.00      1.00       444\n",
            "    positive       0.99      1.00      1.00       185\n",
            "\n",
            "    accuracy                           1.00       727\n",
            "   macro avg       1.00      1.00      1.00       727\n",
            "weighted avg       1.00      1.00      1.00       727\n",
            "\n"
          ],
          "name": "stdout"
        }
      ]
    },
    {
      "cell_type": "code",
      "metadata": {
        "id": "vupgv-pavnIN",
        "colab_type": "code",
        "colab": {
          "base_uri": "https://localhost:8080/",
          "height": 438
        },
        "outputId": "2259f175-da98-40b1-a51d-38a7ea62d7e6"
      },
      "source": [
        "def show_confusion_matrix(confusion_matrix):\n",
        "  hmap = sns.heatmap(confusion_matrix, annot=True, fmt=\"d\", cmap=\"Blues\")\n",
        "  hmap.yaxis.set_ticklabels(hmap.yaxis.get_ticklabels(), rotation=0, ha='right')\n",
        "  hmap.xaxis.set_ticklabels(hmap.xaxis.get_ticklabels(), rotation=30, ha='right')\n",
        "  plt.ylabel('True sentiment')\n",
        "  plt.xlabel('Predicted sentiment');\n",
        "\n",
        "cm = confusion_matrix(flat_true_labels, flat_predictions)\n",
        "df_cm = pd.DataFrame(cm, index=class_names, columns=class_names)\n",
        "show_confusion_matrix(df_cm)"
      ],
      "execution_count": 43,
      "outputs": [
        {
          "output_type": "display_data",
          "data": {
            "image/png": "[encoded data removed]",
            "text/plain": [
              "<Figure size 864x432 with 2 Axes>"
            ]
          },
          "metadata": {
            "tags": [],
            "image/png": {
              "width": 743,
              "height": 421
            }
          }
        }
      ]
    },
    {
      "cell_type": "code",
      "metadata": {
        "id": "Z2mmabPav0Ae",
        "colab_type": "code",
        "colab": {}
      },
      "source": [
        "review_text = \"\"\"In June it sold a 30 percent stake to Nordstjernan , and the investment group has now taken up the option to acquire EQT 's remaining shares .\"\"\""
      ],
      "execution_count": 0,
      "outputs": []
    },
    {
      "cell_type": "code",
      "metadata": {
        "id": "tiNlxcUAvz9I",
        "colab_type": "code",
        "colab": {
          "base_uri": "https://localhost:8080/",
          "height": 34
        },
        "outputId": "a751a72b-4ce0-436b-f582-7fc3b1af8bbf"
      },
      "source": [
        "encoded_new = tokenizer.encode_plus(\n",
        "                        review_text,                      # Sentence to encode.\n",
        "                        add_special_tokens = True, # Add '[CLS]' and '[SEP]'\n",
        "                        max_length = MAX_LEN,           # Pad & truncate all sentences.\n",
        "                        pad_to_max_length = True,\n",
        "                        return_attention_mask = True,   # Construct attn. masks.\n",
        "                        return_tensors = 'pt',     # Return pytorch tensors.\n",
        "                   )\n",
        "\n",
        "# Add the encoded sentence to the list.    \n",
        "input_idst = (encoded_new['input_ids'])\n",
        "attention_maskst = (encoded_new['attention_mask'])\n",
        "\n",
        "# Convert the lists into tensors.\n",
        "input_idst = torch.cat([input_idst], dim=0).to(device)\n",
        "attention_maskst = torch.cat([attention_maskst], dim=0).to(device)\n",
        "\n",
        "\n",
        "new_test_output = model(input_idst, token_type_ids=None, \n",
        "                      attention_mask=attention_maskst)\n",
        "\n",
        "logits = new_test_output[0]\n",
        "\n",
        "# Move logits and labels to CPU\n",
        "logits = logits.detach().cpu().numpy()\n",
        "  \n",
        "# Store predictions and true labels\n",
        "flat_predictions = np.concatenate(predictions, axis=0)\n",
        "\n",
        "# For each sample, pick the label (0 or 1) with the higher score.\n",
        "new_predictions = np.argmax(logits, axis=1).flatten()\n",
        "\n",
        "class_names[new_predictions[0]]"
      ],
      "execution_count": 45,
      "outputs": [
        {
          "output_type": "execute_result",
          "data": {
            "text/plain": [
              "'neutral'"
            ]
          },
          "metadata": {
            "tags": []
          },
          "execution_count": 45
        }
      ]
    },
    {
      "cell_type": "code",
      "metadata": {
        "id": "sLaqZomMvz4l",
        "colab_type": "code",
        "colab": {}
      },
      "source": [
        ""
      ],
      "execution_count": 0,
      "outputs": []
    },
    {
      "cell_type": "code",
      "metadata": {
        "id": "EOJtLRPtvz2l",
        "colab_type": "code",
        "colab": {}
      },
      "source": [
        ""
      ],
      "execution_count": 0,
      "outputs": []
    },
    {
      "cell_type": "code",
      "metadata": {
        "id": "QY_JVeGXvzzk",
        "colab_type": "code",
        "colab": {}
      },
      "source": [
        ""
      ],
      "execution_count": 0,
      "outputs": []
    },
    {
      "cell_type": "code",
      "metadata": {
        "id": "Uh01E7nRyTAm",
        "colab_type": "code",
        "colab": {}
      },
      "source": [
        ""
      ],
      "execution_count": 0,
      "outputs": []
    },
    {
      "cell_type": "code",
      "metadata": {
        "id": "y1DAcQedxBdX",
        "colab_type": "code",
        "outputId": "93948660-db74-4a04-d59c-204bb1dacdf1",
        "colab": {
          "base_uri": "https://localhost:8080/",
          "height": 67
        }
      },
      "source": [
        "output_dir = '/content/fin_model/'\n",
        "\n",
        "model_to_save = model.module if hasattr(model, 'module') else model  # Take care of distributed/parallel training\n",
        "model_to_save.save_pretrained(output_dir)\n",
        "tokenizer.save_pretrained(output_dir)"
      ],
      "execution_count": 46,
      "outputs": [
        {
          "output_type": "execute_result",
          "data": {
            "text/plain": [
              "('/content/fin_model/vocab.txt',\n",
              " '/content/fin_model/special_tokens_map.json',\n",
              " '/content/fin_model/added_tokens.json')"
            ]
          },
          "metadata": {
            "tags": []
          },
          "execution_count": 46
        }
      ]
    },
    {
      "cell_type": "code",
      "metadata": {
        "id": "Dib3rh6U70Gb",
        "colab_type": "code",
        "colab": {}
      },
      "source": [
        ""
      ],
      "execution_count": 0,
      "outputs": []
    },
    {
      "cell_type": "code",
      "metadata": {
        "id": "DhhqX5TdN5nb",
        "colab_type": "code",
        "colab": {}
      },
      "source": [
        ""
      ],
      "execution_count": 0,
      "outputs": []
    },
    {
      "cell_type": "code",
      "metadata": {
        "id": "-wyTBnxrN5lV",
        "colab_type": "code",
        "colab": {}
      },
      "source": [
        ""
      ],
      "execution_count": 0,
      "outputs": []
    },
    {
      "cell_type": "code",
      "metadata": {
        "id": "aCnxt28nN5iR",
        "colab_type": "code",
        "colab": {}
      },
      "source": [
        ""
      ],
      "execution_count": 0,
      "outputs": []
    }
  ]
}